{
 "cells": [
  {
   "cell_type": "code",
   "execution_count": 1,
   "id": "335d0222",
   "metadata": {},
   "outputs": [],
   "source": [
    "import tensorflow as tf\n",
    "from tensorflow.keras import Sequential\n",
    "from tensorflow.keras.layers import Dense\n",
    "from tensorflow.keras.optimizers import Adam\n",
    "import sklearn\n",
    "from sklearn.model_selection import train_test_split\n",
    "import pandas as pd\n",
    "import numpy as np\n",
    "import pickle\n",
    "import matplotlib.pyplot as plt\n",
    "from sklearn.ensemble import RandomForestClassifier"
   ]
  },
  {
   "cell_type": "code",
   "execution_count": 3,
   "id": "591d13b1",
   "metadata": {},
   "outputs": [],
   "source": [
    "df=pd.read_csv(\"/Users/Tiphani/Desktop/dataset.csv\")"
   ]
  },
  {
   "cell_type": "code",
   "execution_count": 4,
   "id": "9cdb69b2",
   "metadata": {},
   "outputs": [
    {
     "data": {
      "text/html": [
       "<div>\n",
       "<style scoped>\n",
       "    .dataframe tbody tr th:only-of-type {\n",
       "        vertical-align: middle;\n",
       "    }\n",
       "\n",
       "    .dataframe tbody tr th {\n",
       "        vertical-align: top;\n",
       "    }\n",
       "\n",
       "    .dataframe thead th {\n",
       "        text-align: right;\n",
       "    }\n",
       "</style>\n",
       "<table border=\"1\" class=\"dataframe\">\n",
       "  <thead>\n",
       "    <tr style=\"text-align: right;\">\n",
       "      <th></th>\n",
       "      <th>feeling.nervous</th>\n",
       "      <th>panic</th>\n",
       "      <th>breathing.rapidly</th>\n",
       "      <th>sweating</th>\n",
       "      <th>trouble.in.concentration</th>\n",
       "      <th>having.trouble.in.sleeping</th>\n",
       "      <th>having.trouble.with.work</th>\n",
       "      <th>hopelessness</th>\n",
       "      <th>anger</th>\n",
       "      <th>over.react</th>\n",
       "      <th>...</th>\n",
       "      <th>weight.gain</th>\n",
       "      <th>material.possessions</th>\n",
       "      <th>introvert</th>\n",
       "      <th>popping.up.stressful.memory</th>\n",
       "      <th>having.nightmares</th>\n",
       "      <th>avoids.people.or.activities</th>\n",
       "      <th>feeling.negative</th>\n",
       "      <th>trouble.concentrating</th>\n",
       "      <th>blaming.yourself</th>\n",
       "      <th>Disorder</th>\n",
       "    </tr>\n",
       "  </thead>\n",
       "  <tbody>\n",
       "    <tr>\n",
       "      <th>0</th>\n",
       "      <td>yes</td>\n",
       "      <td>yes</td>\n",
       "      <td>yes</td>\n",
       "      <td>yes</td>\n",
       "      <td>yes</td>\n",
       "      <td>yes</td>\n",
       "      <td>no</td>\n",
       "      <td>no</td>\n",
       "      <td>no</td>\n",
       "      <td>no</td>\n",
       "      <td>...</td>\n",
       "      <td>no</td>\n",
       "      <td>no</td>\n",
       "      <td>no</td>\n",
       "      <td>no</td>\n",
       "      <td>no</td>\n",
       "      <td>no</td>\n",
       "      <td>no</td>\n",
       "      <td>no</td>\n",
       "      <td>no</td>\n",
       "      <td>Anxiety</td>\n",
       "    </tr>\n",
       "    <tr>\n",
       "      <th>1</th>\n",
       "      <td>no</td>\n",
       "      <td>no</td>\n",
       "      <td>no</td>\n",
       "      <td>no</td>\n",
       "      <td>no</td>\n",
       "      <td>no</td>\n",
       "      <td>yes</td>\n",
       "      <td>yes</td>\n",
       "      <td>yes</td>\n",
       "      <td>yes</td>\n",
       "      <td>...</td>\n",
       "      <td>no</td>\n",
       "      <td>no</td>\n",
       "      <td>no</td>\n",
       "      <td>no</td>\n",
       "      <td>no</td>\n",
       "      <td>no</td>\n",
       "      <td>no</td>\n",
       "      <td>no</td>\n",
       "      <td>no</td>\n",
       "      <td>Depression</td>\n",
       "    </tr>\n",
       "    <tr>\n",
       "      <th>2</th>\n",
       "      <td>no</td>\n",
       "      <td>no</td>\n",
       "      <td>no</td>\n",
       "      <td>no</td>\n",
       "      <td>no</td>\n",
       "      <td>no</td>\n",
       "      <td>no</td>\n",
       "      <td>no</td>\n",
       "      <td>no</td>\n",
       "      <td>no</td>\n",
       "      <td>...</td>\n",
       "      <td>yes</td>\n",
       "      <td>yes</td>\n",
       "      <td>yes</td>\n",
       "      <td>no</td>\n",
       "      <td>no</td>\n",
       "      <td>no</td>\n",
       "      <td>no</td>\n",
       "      <td>no</td>\n",
       "      <td>no</td>\n",
       "      <td>Loneliness</td>\n",
       "    </tr>\n",
       "    <tr>\n",
       "      <th>3</th>\n",
       "      <td>no</td>\n",
       "      <td>no</td>\n",
       "      <td>no</td>\n",
       "      <td>no</td>\n",
       "      <td>no</td>\n",
       "      <td>no</td>\n",
       "      <td>no</td>\n",
       "      <td>no</td>\n",
       "      <td>no</td>\n",
       "      <td>no</td>\n",
       "      <td>...</td>\n",
       "      <td>no</td>\n",
       "      <td>no</td>\n",
       "      <td>no</td>\n",
       "      <td>yes</td>\n",
       "      <td>yes</td>\n",
       "      <td>yes</td>\n",
       "      <td>yes</td>\n",
       "      <td>yes</td>\n",
       "      <td>yes</td>\n",
       "      <td>Stress</td>\n",
       "    </tr>\n",
       "    <tr>\n",
       "      <th>4</th>\n",
       "      <td>no</td>\n",
       "      <td>no</td>\n",
       "      <td>no</td>\n",
       "      <td>no</td>\n",
       "      <td>no</td>\n",
       "      <td>no</td>\n",
       "      <td>no</td>\n",
       "      <td>no</td>\n",
       "      <td>no</td>\n",
       "      <td>no</td>\n",
       "      <td>...</td>\n",
       "      <td>no</td>\n",
       "      <td>no</td>\n",
       "      <td>no</td>\n",
       "      <td>no</td>\n",
       "      <td>no</td>\n",
       "      <td>no</td>\n",
       "      <td>no</td>\n",
       "      <td>no</td>\n",
       "      <td>no</td>\n",
       "      <td>Normal</td>\n",
       "    </tr>\n",
       "  </tbody>\n",
       "</table>\n",
       "<p>5 rows × 25 columns</p>\n",
       "</div>"
      ],
      "text/plain": [
       "  feeling.nervous panic breathing.rapidly sweating trouble.in.concentration  \\\n",
       "0             yes   yes               yes      yes                      yes   \n",
       "1              no    no                no       no                       no   \n",
       "2              no    no                no       no                       no   \n",
       "3              no    no                no       no                       no   \n",
       "4              no    no                no       no                       no   \n",
       "\n",
       "  having.trouble.in.sleeping having.trouble.with.work hopelessness anger  \\\n",
       "0                        yes                       no           no    no   \n",
       "1                         no                      yes          yes   yes   \n",
       "2                         no                       no           no    no   \n",
       "3                         no                       no           no    no   \n",
       "4                         no                       no           no    no   \n",
       "\n",
       "  over.react  ... weight.gain material.possessions introvert  \\\n",
       "0         no  ...          no                   no        no   \n",
       "1        yes  ...          no                   no        no   \n",
       "2         no  ...         yes                  yes       yes   \n",
       "3         no  ...          no                   no        no   \n",
       "4         no  ...          no                   no        no   \n",
       "\n",
       "  popping.up.stressful.memory having.nightmares avoids.people.or.activities  \\\n",
       "0                          no                no                          no   \n",
       "1                          no                no                          no   \n",
       "2                          no                no                          no   \n",
       "3                         yes               yes                         yes   \n",
       "4                          no                no                          no   \n",
       "\n",
       "  feeling.negative trouble.concentrating blaming.yourself    Disorder  \n",
       "0               no                    no               no     Anxiety  \n",
       "1               no                    no               no  Depression  \n",
       "2               no                    no               no  Loneliness  \n",
       "3              yes                   yes              yes      Stress  \n",
       "4               no                    no               no      Normal  \n",
       "\n",
       "[5 rows x 25 columns]"
      ]
     },
     "execution_count": 4,
     "metadata": {},
     "output_type": "execute_result"
    }
   ],
   "source": [
    "df.head()"
   ]
  },
  {
   "cell_type": "code",
   "execution_count": 5,
   "id": "944e07c6",
   "metadata": {},
   "outputs": [
    {
     "data": {
      "text/plain": [
       "False"
      ]
     },
     "execution_count": 5,
     "metadata": {},
     "output_type": "execute_result"
    }
   ],
   "source": [
    "df.isnull().values.any()"
   ]
  },
  {
   "cell_type": "code",
   "execution_count": 6,
   "id": "beec309b",
   "metadata": {},
   "outputs": [],
   "source": [
    "df['feeling.nervous']=df['feeling.nervous'].apply(lambda x:1 if x =='yes' else 0)\n",
    "df['panic']=df['panic'].apply(lambda x:1 if x=='yes' else 0)\n",
    "df['breathing.rapidly']=df['breathing.rapidly'].apply(lambda x:1 if x=='yes' else 0)\n",
    "df['sweating']=df['sweating'].apply(lambda x:1 if x=='yes' else 0)\n",
    "df['trouble.in.concentration']=df['trouble.in.concentration'].apply(lambda x:1 if x=='yes' else 0)\n",
    "df['having.trouble.in.sleeping']=df['having.trouble.in.sleeping'].apply(lambda x:1 if x =='yes' else 0)\n",
    "df['having.trouble.with.work']=df['having.trouble.with.work'].apply(lambda x:1 if x =='yes' else 0)\n",
    "df['hopelessness']=df['hopelessness'].apply(lambda x:1 if x =='yes' else 0)\n",
    "df['anger']=df['anger'].apply(lambda x:1 if x =='yes' else 0)\n",
    "df['change.in.eating']=df['change.in.eating'].apply(lambda x:1 if x =='yes' else 0)\n",
    "df['suicidal.thought']=df['suicidal.thought'].apply(lambda x:1 if x =='yes' else 0)\n",
    "df['feeling.tired']=df['feeling.tired'].apply(lambda x:1 if x =='yes' else 0)\n",
    "df['close.friend']=df['close.friend'].apply(lambda x:1 if x =='yes' else 0)\n",
    "df['popping.up.stressful.memory']=df['popping.up.stressful.memory'].apply(lambda x:1 if x =='yes' else 0)\n",
    "df['having.nightmares']=df['having.nightmares'].apply(lambda x:1 if x =='yes' else 0)\n",
    "df['avoids.people.or.activities']=df['avoids.people.or.activities'].apply(lambda x:1 if x =='yes' else 0)\n",
    "df['feeling.negative']=df['feeling.negative'].apply(lambda x:1 if x =='yes' else 0)\n",
    "df['trouble.concentrating']=df['trouble.concentrating'].apply(lambda x:1 if x =='yes' else 0)\n",
    "df['blaming.yourself']=df['blaming.yourself'].apply(lambda x:1 if x =='yes' else 0)\n",
    "\n",
    "X=df[['feeling.nervous', 'panic', 'breathing.rapidly', 'sweating', 'trouble.in.concentration', 'having.trouble.in.sleeping','having.trouble.with.work','hopelessness','anger','change.in.eating','suicidal.thought','feeling.tired','close.friend','popping.up.stressful.memory','having.nightmares','avoids.people.or.activities','feeling.negative','trouble.concentrating', 'blaming.yourself']].values"
   ]
  },
  {
   "cell_type": "code",
   "execution_count": 7,
   "id": "9e8cf476",
   "metadata": {},
   "outputs": [
    {
     "data": {
      "text/plain": [
       "array([[1, 1, 1, ..., 0, 0, 0],\n",
       "       [0, 0, 0, ..., 0, 0, 0],\n",
       "       [0, 0, 0, ..., 0, 0, 0],\n",
       "       ...,\n",
       "       [0, 0, 0, ..., 0, 0, 0],\n",
       "       [0, 0, 0, ..., 1, 1, 1],\n",
       "       [0, 0, 0, ..., 0, 0, 0]], dtype=int64)"
      ]
     },
     "execution_count": 7,
     "metadata": {},
     "output_type": "execute_result"
    }
   ],
   "source": [
    "X"
   ]
  },
  {
   "cell_type": "code",
   "execution_count": 8,
   "id": "668f47f4",
   "metadata": {},
   "outputs": [],
   "source": [
    "df['Disorder']=df['Disorder'].apply(lambda x:1 if x == 'Anxiety' else 2 if x=='Depression' else 3 if x == 'Loneliness' else 4 if x == 'Stress' else 5)\n",
    "y = df['Disorder'].values"
   ]
  },
  {
   "cell_type": "code",
   "execution_count": 9,
   "id": "cd782d08",
   "metadata": {},
   "outputs": [
    {
     "data": {
      "text/plain": [
       "array([1, 2, 3, ..., 3, 4, 5], dtype=int64)"
      ]
     },
     "execution_count": 9,
     "metadata": {},
     "output_type": "execute_result"
    }
   ],
   "source": [
    "y"
   ]
  },
  {
   "cell_type": "code",
   "execution_count": 10,
   "id": "18c83674",
   "metadata": {},
   "outputs": [],
   "source": [
    "X_train,X_test,y_train,y_test = train_test_split(X,y,test_size=0.2)"
   ]
  },
  {
   "cell_type": "code",
   "execution_count": 11,
   "id": "d428dc53",
   "metadata": {},
   "outputs": [
    {
     "data": {
      "text/plain": [
       "RandomForestClassifier(n_estimators=20)"
      ]
     },
     "execution_count": 11,
     "metadata": {},
     "output_type": "execute_result"
    }
   ],
   "source": [
    "model = RandomForestClassifier(n_estimators=20)\n",
    "model.fit(X_train,y_train)"
   ]
  },
  {
   "cell_type": "code",
   "execution_count": 12,
   "id": "9bf459ac",
   "metadata": {},
   "outputs": [
    {
     "data": {
      "text/plain": [
       "1.0"
      ]
     },
     "execution_count": 12,
     "metadata": {},
     "output_type": "execute_result"
    }
   ],
   "source": [
    "model.score(X_test,y_test)"
   ]
  },
  {
   "cell_type": "code",
   "execution_count": 13,
   "id": "6f601cf2",
   "metadata": {},
   "outputs": [
    {
     "data": {
      "text/plain": [
       "array([3, 1, 5, ..., 3, 4, 4], dtype=int64)"
      ]
     },
     "execution_count": 13,
     "metadata": {},
     "output_type": "execute_result"
    }
   ],
   "source": [
    "model.predict(X_test)"
   ]
  },
  {
   "cell_type": "code",
   "execution_count": 14,
   "id": "a190feb8",
   "metadata": {},
   "outputs": [],
   "source": [
    "pickle.dump(model, open('disorder.pkl', 'wb'))"
   ]
  },
  {
   "cell_type": "code",
   "execution_count": 15,
   "id": "545c8165",
   "metadata": {},
   "outputs": [],
   "source": [
    "disorder = pickle.load(open('disorder.pkl', 'rb'))"
   ]
  },
  {
   "cell_type": "code",
   "execution_count": 16,
   "id": "4f4cc02d",
   "metadata": {},
   "outputs": [
    {
     "data": {
      "text/plain": [
       "array([3, 1, 5, ..., 3, 4, 4], dtype=int64)"
      ]
     },
     "execution_count": 16,
     "metadata": {},
     "output_type": "execute_result"
    }
   ],
   "source": [
    "disorder.predict(X_test)"
   ]
  },
  {
   "cell_type": "code",
   "execution_count": null,
   "id": "784b2953",
   "metadata": {},
   "outputs": [],
   "source": []
  }
 ],
 "metadata": {
  "kernelspec": {
   "display_name": "Python 3",
   "language": "python",
   "name": "python3"
  },
  "language_info": {
   "codemirror_mode": {
    "name": "ipython",
    "version": 3
   },
   "file_extension": ".py",
   "mimetype": "text/x-python",
   "name": "python",
   "nbconvert_exporter": "python",
   "pygments_lexer": "ipython3",
   "version": "3.8.8"
  }
 },
 "nbformat": 4,
 "nbformat_minor": 5
}
